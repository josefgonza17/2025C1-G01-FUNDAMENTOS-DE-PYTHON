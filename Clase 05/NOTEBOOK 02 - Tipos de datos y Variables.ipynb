{
 "cells": [
  {
   "cell_type": "markdown",
   "metadata": {},
   "source": [
    "# NOTEBOOK 02 - Tipos de datos y Variables\n",
    "## Fundamentos de Programación: Tipos de Datos, Variables y Operaciones Básicas\n",
    "### Prof: Ing. Andrés Mena Abarca\n",
    "\n",
    "> ## Nombre del estudiante: Jose F Gonzalez Salgado"
   ]
  },
  {
   "cell_type": "markdown",
   "metadata": {},
   "source": [
    "\n",
    "\n",
    "---\n",
    "\n",
    "## 1. Tipos de Datos en Python\n",
    "## **1. Introducción a los Tipos de Datos Básicos**\n",
    "\n",
    "### **Explicación:**\n",
    "En Python, los tipos de datos básicos son los bloques fundamentales para almacenar y manipular información. Estos tipos son:\n",
    "\n",
    "1. **`int` (Enteros):**\n",
    "   - Representan números enteros, positivos o negativos.\n",
    "   - Ejemplos: `5`, `-10`, `1000`.\n",
    "   - No tienen límite de tamaño (dependen de la memoria disponible).\n",
    "\n",
    "2. **`float` (Decimales):**\n",
    "   - Representan números con parte decimal.\n",
    "   - Ejemplos: `3.14`, `-0.001`, `2.0`.\n",
    "   - Se almacenan con una precisión limitada (aproximadamente 15 decimales).\n",
    "\n",
    "3. **`str` (Cadenas de Texto):**\n",
    "   - Representan secuencias de caracteres.\n",
    "   - Se definen entre comillas simples (`'Hola'`) o dobles (`\"Python\"`).\n",
    "   - Son mutables (no se pueden modificar después de crearse).\n",
    "\n",
    "4. **`bool` (Booleanos):**\n",
    "   - Representan valores lógicos: `True` (verdadero) o `False` (falso).\n",
    "   - Se usan en condiciones y operaciones lógicas.\n",
    "\n",
    "### **Práctica:**\n",
    "\n",
    "```python\n",
    "# Declara variables de cada tipo\n",
    "edad = 25  # int\n",
    "altura = 1.75  # float\n",
    "nombre = \"Ana\"  # str\n",
    "es_estudiante = True  # bool\n",
    "\n",
    "# Muestra el tipo de cada variable usando la función type()\n",
    "print(type(edad))  # <class 'int'>\n",
    "print(type(altura))  # <class 'float'>\n",
    "print(type(nombre))  # <class 'str'>\n",
    "print(type(es_estudiante))  # <class 'bool'>\n",
    "\n",
    "## Ejercicios \n",
    "\n",
    "1. Declara una variable de tipo entero y asigna el valor *25*. Luego, imprime su tipo."
   ]
  },
  {
   "cell_type": "code",
   "execution_count": 7,
   "metadata": {},
   "outputs": [
    {
     "name": "stdout",
     "output_type": "stream",
     "text": [
      "<class 'int'>\n"
     ]
    }
   ],
   "source": [
    "#Respuesta\n",
    "\n",
    "numero_entero = 2555555555555\n",
    "\n",
    "print(type (numero_entero))"
   ]
  },
  {
   "cell_type": "markdown",
   "metadata": {},
   "source": [
    "2. Declara una variable de tipo flotante con el valor *3.1416*. Imprime su tipo.\n"
   ]
  },
  {
   "cell_type": "code",
   "execution_count": 9,
   "metadata": {},
   "outputs": [
    {
     "name": "stdout",
     "output_type": "stream",
     "text": [
      "<class 'float'>\n"
     ]
    }
   ],
   "source": [
    "#Respuesta\n",
    "\n",
    "numero_float = 3.14568524516356115152222222222222222222222222222\n",
    "\n",
    "print(type (numero_float))\n"
   ]
  },
  {
   "cell_type": "code",
   "execution_count": 13,
   "metadata": {},
   "outputs": [
    {
     "name": "stdout",
     "output_type": "stream",
     "text": [
      "<class 'decimal.Decimal'>\n"
     ]
    }
   ],
   "source": [
    "from decimal import Decimal,getcontext\n",
    "\n",
    "\n",
    "getcontext().prec = 30\n",
    "\n",
    "\n",
    "\n",
    "pi = Decimal(3.141641187985479658345978222222222222222222222222222222) \n",
    "print(type(pi))"
   ]
  },
  {
   "cell_type": "markdown",
   "metadata": {},
   "source": [
    "3. Crea una variable es_estudiante que almacene un valor booleano indicando si eres estudiante."
   ]
  },
  {
   "cell_type": "code",
   "execution_count": 12,
   "metadata": {},
   "outputs": [
    {
     "name": "stdout",
     "output_type": "stream",
     "text": [
      "<class 'bool'>\n"
     ]
    }
   ],
   "source": [
    "#Respuesta\n",
    "\n",
    "Estudiante = False\n",
    "\n",
    "print(type (Estudiante))"
   ]
  },
  {
   "cell_type": "markdown",
   "metadata": {},
   "source": [
    "## 2. Variables en Python\n",
    "\n",
    "### Teoría\n",
    "Las variables son espacios de memoria donde almacenamos datos. En Python, no es necesario declarar el tipo de la variable, simplemente se asigna un valor con el símbolo `=`.\n",
    "\n",
    "#### Reglas para nombrar variables:\n",
    "- Deben comenzar con una letra o un guion bajo.\n",
    "- No pueden comenzar con un número.\n",
    "- Solo pueden contener letras, números y guiones bajos.\n",
    "- Son sensibles a mayúsculas y minúsculas (`nombre` y `Nombre` son diferentes).\n",
    "\n",
    "### Ejemplo"
   ]
  },
  {
   "cell_type": "code",
   "execution_count": null,
   "metadata": {},
   "outputs": [],
   "source": [
    "# Declaración de variables\n",
    "mi_nombre = \"Carlos\"\n",
    "edad = 20\n",
    "\n",
    "# Variables válidas\n",
    "nombre_completo = \"Ana Pérez\"\n",
    "_variable_secreta = 42 # convención para indicar que esa variable es protegida.\n",
    "\n",
    "# Variables inválidas (descomentar para ver los errores)\n",
    "# 2variable = 10  # Error: no puede comenzar con un número\n",
    "# nombre completo = \"Juan\"  # Error: no puede contener espacios"
   ]
  },
  {
   "cell_type": "markdown",
   "metadata": {},
   "source": [
    "## 3. Operaciones Básicas de Entrada y Salida\n",
    "\n",
    "### Teoría\n",
    "Las operaciones de entrada y salida son fundamentales para interactuar con el usuario. En Python, utilizamos la función `input()` para capturar datos del usuario y `print()` para mostrar información en pantalla.\n",
    "\n",
    "### Ejemplos"
   ]
  },
  {
   "cell_type": "code",
   "execution_count": 16,
   "metadata": {},
   "outputs": [
    {
     "name": "stdout",
     "output_type": "stream",
     "text": [
      "¡Hola, mundo!\n",
      "Hola Jose Bienvenido a Python!\n"
     ]
    }
   ],
   "source": [
    "# Operación de salida\n",
    "print(\"¡Hola, mundo!\")\n",
    "\n",
    "# Operación de entrada + Saalida con format\n",
    "\n",
    "nombre = input(\"Ingrese su nombre: \")\n",
    "\n",
    "print(\"Hola\", nombre, \"Bienvenido a Python!\")\n"
   ]
  },
  {
   "cell_type": "code",
   "execution_count": 19,
   "metadata": {},
   "outputs": [
    {
     "name": "stdout",
     "output_type": "stream",
     "text": [
      "Hola bienvenido a Python Jose!!\n",
      "Fundamentos de Python UMCA 2025\n"
     ]
    }
   ],
   "source": [
    "#Definir funciones\n",
    "\n",
    "def saludar(pNombre):\n",
    "    print(f\"Hola bienvenido a Python {pNombre}!!\")\n",
    "    print(\"Fundamentos de Python UMCA 2025\")\n",
    "    \n",
    "nombre = input(\"Ingrese su nombre por favor: \")\n",
    "saludar (nombre) "
   ]
  },
  {
   "cell_type": "markdown",
   "metadata": {},
   "source": [
    "En otros lenguajes, como *Java*, el proceso es similar pero con algunas diferencias en la sintaxis:\n",
    "\n",
    "```Java\n",
    "// Ejemplo en Java\n",
    "import java.util.Scanner;\n",
    "\n",
    "public class EntradaSalida {\n",
    "    public static void main(String[] args) {\n",
    "        Scanner input = new Scanner(System.in);\n",
    "        System.out.print(\"¿Cómo te llamas? \");\n",
    "        String nombre = input.nextLine();\n",
    "        System.out.println(\"Hola, \" + nombre + \"!\");\n",
    "    }\n",
    "}\n",
    "\n",
    "```"
   ]
  },
  {
   "cell_type": "markdown",
   "metadata": {},
   "source": [
    "## 4. Operadores Básicos en Python\n",
    "\n",
    "### Teoría\n",
    "Los operadores en Python nos permiten realizar diversas operaciones con variables y datos. Los más comunes son:\n",
    "\n",
    "- **Operadores matemáticos**: `+`, `-`, `*`, `/`, `//` (división entera), `%` (módulo)\n",
    "- **Operadores de asignación**: `=`, `+=`, `-=`, `*=`, `/=`\n",
    "- **Operadores de comparación**: `==`, `!=`, `<`, `>`, `<=`, `>=`\n",
    "- **Operadores lógicos**: `and`, `or`, `not`\n",
    "\n",
    "### Tabla de Operadores Matemáticos\n",
    "\n",
    "| Operador | Descripción           | Ejemplo           |\n",
    "|----------|-----------------------|-------------------|\n",
    "| `+`      | Suma                  | `5 + 3 = 8`       |\n",
    "| `-`      | Resta                 | `5 - 2 = 3`       |\n",
    "| `*`      | Multiplicación         | `5 * 2 = 10`      |\n",
    "| `/`      | División              | `10 / 2 = 5.0`    |\n",
    "| `//`     | División entera        | `10 // 3 = 3`     |\n",
    "| `%`      | Módulo (resto)         | `10 % 3 = 1`      |\n",
    "\n",
    "### Ejemplos"
   ]
  },
  {
   "cell_type": "markdown",
   "metadata": {},
   "source": [
    "#### Problema 1: Operadores Matemáticos y Comparación en Python\n",
    "\n",
    "Tienes dos variables `a = 10` y `b = 5`. Realiza las siguientes operaciones matemáticas:"
   ]
  },
  {
   "cell_type": "code",
   "execution_count": 23,
   "metadata": {},
   "outputs": [
    {
     "name": "stdout",
     "output_type": "stream",
     "text": [
      "El resultado de la suma es 10 + 5 = 15\n",
      "El resultado de la resta es 10 - 5 = 5\n"
     ]
    }
   ],
   "source": [
    "# Asignacón de variables\n",
    "a = 10\n",
    "b = 5\n",
    "\n",
    "\n",
    "# Suma y resta\n",
    "\n",
    "suma = a + b \n",
    "resta = a - b \n",
    "\n",
    "print(f\"El resultado de la suma es {a} + {b} = {suma}\")\n",
    "      \n",
    "print(f\"El resultado de la resta es {a} - {b} = {resta}\")\n"
   ]
  },
  {
   "cell_type": "markdown",
   "metadata": {},
   "source": [
    "#### Práctica:\n",
    "> Función para calcular el área de un círculo:"
   ]
  },
  {
   "cell_type": "code",
   "execution_count": null,
   "metadata": {},
   "outputs": [
    {
     "name": "stdout",
     "output_type": "stream",
     "text": [
      "El area del circulo con el radio de 10.0 es: 314.16\n"
     ]
    }
   ],
   "source": [
    "#Construir función\n",
    "\n",
    "from math import pi\n",
    "\n",
    "def area_circulo(radio=5): #radio = 5 indica que es un parametro opcional, por defecto el valor del radio es (5)\n",
    "    resultado = pi * (radio ** 2)\n",
    "    print(f\"El area del circulo con el radio de {radio} es: {resultado:.2f}\")\n",
    "\n",
    "\n",
    "radio = float(input(\"Introduzca el valor del radio: \"))\n",
    "\n",
    "area_circulo (radio)"
   ]
  },
  {
   "cell_type": "markdown",
   "metadata": {},
   "source": [
    "#### Problema 2: Comparación de Números\n",
    "Usa los siguientes operadores de comparación para verificar la relación entre a y b. ¿Qué resultado esperas?"
   ]
  },
  {
   "cell_type": "code",
   "execution_count": 35,
   "metadata": {},
   "outputs": [
    {
     "name": "stdout",
     "output_type": "stream",
     "text": [
      "Valor de a: 10 Valor de b:  5\n",
      "False\n",
      "True\n",
      "False\n",
      "True\n"
     ]
    }
   ],
   "source": [
    "# Operadores de comparación\n",
    "\n",
    "print(\"Valor de a:\",a, \"Valor de b: \",b)\n",
    "\n",
    "# ¿Es a igual a b?\n",
    "\n",
    "print (a == b)\n",
    "\n",
    "# ¿Es a mayor que b?\n",
    "\n",
    "print( a > b)\n",
    "\n",
    "# ¿Es a menor que b?\n",
    "\n",
    "print( a < b)\n",
    "\n",
    "# ¿Es a diferente que b?\n",
    "\n",
    "print( a != b)"
   ]
  },
  {
   "cell_type": "markdown",
   "metadata": {},
   "source": [
    "### Problema 3: Operadores Lógicos\n",
    "Usa operadores lógicos para combinar condiciones. Resuelve el siguiente problema: ¿Es a mayor que 0 y b menor que 10? \n",
    "\n",
    "- ¿Qué pasa si a = -10?"
   ]
  },
  {
   "cell_type": "code",
   "execution_count": 41,
   "metadata": {},
   "outputs": [
    {
     "name": "stdout",
     "output_type": "stream",
     "text": [
      "Inicio sesión:  False\n"
     ]
    }
   ],
   "source": [
    "# Ejemplo: Operador lógico AND (usuario y contraseña)\n",
    "\n",
    "# Datos correctos (simulando una base de datos)\n",
    "usuario_correcto = \"admin\"\n",
    "contraseña_correcta = \"1234\"\n",
    "\n",
    "#pedir al usuario las credenciales\n",
    "usuario = input(\"Ingrese el usuario por favor: \").lower()  == usuario_correcto\n",
    "contrasena = input(\"Ingrese la contraseña por favor: \") == contraseña_correcta\n",
    "\n",
    "print(\"Inicio sesión: \" , usuario and contrasena)"
   ]
  },
  {
   "cell_type": "code",
   "execution_count": null,
   "metadata": {},
   "outputs": [
    {
     "name": "stdout",
     "output_type": "stream",
     "text": [
      "False True\n",
      "Puede ir al baile:  True\n"
     ]
    }
   ],
   "source": [
    "# Ejemplo: Operador lógico OR\n",
    "\n",
    "# Preguntar si mamá o papá dan permiso\n",
    "\n",
    "permiso_mama = input (\"Mamá me da permiso de ir al baile? (si/no)\").upper() == \"SI\"\n",
    "permiso_papa = input (\"Papá me da permiso de ir al baile? (si/no)\").lower() == \"si\"\n",
    "\n",
    "print(permiso_mama, permiso_papa)\n",
    "print(\"Puede ir al baile: \", permiso_mama or permiso_papa)\n",
    "\n"
   ]
  },
  {
   "cell_type": "code",
   "execution_count": 52,
   "metadata": {},
   "outputs": [
    {
     "name": "stdout",
     "output_type": "stream",
     "text": [
      "Valor de a: -10 Valor de b:  5\n",
      "False\n",
      "True\n",
      "True\n",
      "Valor de a: -10 Valor de b:  5\n",
      "False\n",
      "True\n",
      "True\n"
     ]
    }
   ],
   "source": [
    "#Usa operadores lógicos para combinar condiciones. Resuelve el siguiente problema: ¿Es a mayor que 0 y b menor que 10? \n",
    "\n",
    "# ¿Ambas condiciones son verdaderas?\n",
    "\n",
    "print(\"Valor de a:\",a, \"Valor de b: \",b)\n",
    "\n",
    "print(a > 0 and b < 10)\n",
    "\n",
    "# ¿Al menos una de las condiciones es verdadera?\n",
    "\n",
    "print( a > 0 or b < 10)\n",
    "\n",
    "# ¿Es falso que a sea mayor que b?\n",
    "\n",
    "print( not(a >  b))\n",
    "\n",
    "#- ¿Qué pasa si a = -10?\n",
    "\n",
    "# ¿Ambas condiciones son verdaderas?\n",
    "\n",
    "a = -10\n",
    "\n",
    "print(\"Valor de a:\",a, \"Valor de b: \",b)\n",
    "\n",
    "print( a > 0 and b < 10)\n",
    "\n",
    "# ¿Al menos una de las condiciones es verdadera?\n",
    "\n",
    "print( a > 0 or b < 10)\n",
    "\n",
    "# ¿Es falso que a sea mayor que b?\n",
    "\n",
    "print( not(a >  b))\n",
    "\n",
    "\n"
   ]
  },
  {
   "cell_type": "markdown",
   "metadata": {},
   "source": [
    "### Problema 4: Divisiones y Módulo\n",
    "Prueba las operaciones de división entera y módulo para ver cómo Python maneja los restos de las divisiones."
   ]
  },
  {
   "cell_type": "code",
   "execution_count": 54,
   "metadata": {},
   "outputs": [
    {
     "name": "stdout",
     "output_type": "stream",
     "text": [
      "Divisón entera:  2\n",
      "Modulo:  1\n"
     ]
    }
   ],
   "source": [
    "# División entera y módulo\n",
    "\n",
    "a = 11\n",
    "b = 5\n",
    "\n",
    "division_entera = a // b\n",
    "\n",
    "modulo = a % b\n",
    "\n",
    "print(\"Divisón entera: \",division_entera)\n",
    "print(\"Modulo: \", modulo)\n",
    "\n",
    "\n"
   ]
  },
  {
   "cell_type": "code",
   "execution_count": 55,
   "metadata": {},
   "outputs": [
    {
     "name": "stdout",
     "output_type": "stream",
     "text": [
      "Es un numero par:  False\n"
     ]
    }
   ],
   "source": [
    "# Función para verificar si un número es par\n",
    "\n",
    "def es_par(pnum):\n",
    "    return numero % 2 == 0\n",
    "\n",
    "numero = int(input(\"Ingrese un numero por favor: \"))\n",
    "\n",
    "print(\"Es un número par: \", es_par(numero))\n",
    "\n"
   ]
  },
  {
   "cell_type": "markdown",
   "metadata": {
    "vscode": {
     "languageId": "powershell"
    }
   },
   "source": [
    "### 5. Conversión entre Tipos de Datos\n",
    "Python permite convertir entre tipos de datos usando funciones como:\n",
    "\n",
    "- `int()`: Convierte a entero.\n",
    "- `float()`: Convierte a decimal.\n",
    "- `str():` Convierte a cadena.\n",
    "- `bool()`: Convierte a booleano."
   ]
  },
  {
   "cell_type": "code",
   "execution_count": 58,
   "metadata": {},
   "outputs": [
    {
     "name": "stdout",
     "output_type": "stream",
     "text": [
      "3 <class 'int'>\n",
      "5.0 <class 'float'>\n",
      "100 <class 'str'>\n"
     ]
    }
   ],
   "source": [
    "# Conversión de tipos\n",
    "\n",
    "numero_entero = int(3.14) #convertir de float a entero\n",
    "numero_float = float (5) #Entero a flotante\n",
    "cadena_numero = str(100.50) #Flotante a String\n",
    "\n",
    "\n",
    "\n",
    "print(numero_entero, type (numero_entero))\n",
    "print(numero_float, type (numero_float))\n",
    "print(cadena_numero, type(cadena_numero))\n",
    "\n",
    "\n"
   ]
  },
  {
   "cell_type": "code",
   "execution_count": null,
   "metadata": {
    "vscode": {
     "languageId": "powershell"
    }
   },
   "outputs": [],
   "source": [
    "# Conversión de cadenas a números"
   ]
  },
  {
   "cell_type": "markdown",
   "metadata": {},
   "source": [
    "### Ejercicio Final:\n",
    "\n",
    "Combina operadores matemáticos, de comparación y lógicos. Escribe un programa que pida al usuario dos números y realice las siguientes tareas:\n",
    "\n",
    "1. Verifique si el primer número es mayor que el segundo.\n",
    "2. Calcule la suma, resta, división y módulo de ambos.\n",
    "3. Determine si la suma de ambos números es mayor que 20 **y** si alguno de los dos es menor que 5."
   ]
  },
  {
   "cell_type": "code",
   "execution_count": 11,
   "metadata": {},
   "outputs": [
    {
     "name": "stdout",
     "output_type": "stream",
     "text": [
      "El primer número es mayor que el segundo:  False\n",
      "El resultado de la operacion Suma es:  9.0\n",
      "El resultado de la operacion Resta es:  -1.0\n",
      "El resultado de la operacion Division es:  0.8\n",
      "El resultado de la operacion Modulo es:  4.0\n",
      "La suma de los numeros es mayor a 20:  False\n"
     ]
    }
   ],
   "source": [
    "#\n",
    "\n",
    "#Punto 1:\n",
    "\n",
    "numero_1 = float(input(\"Introduza un número por favor: \"))\n",
    "numero_2 = float(input(\"Introduza un número por favor: \"))\n",
    "\n",
    "print(\"El primer número es mayor que el segundo: \", numero_1 > numero_2)\n",
    "\n",
    "#Punto 2:\n",
    "\n",
    "sumar = numero_1 + numero_2 \n",
    "restar = numero_1 - numero_2\n",
    "division = numero_1 / numero_2\n",
    "modulo = numero_1 % numero_2\n",
    "\n",
    "print(\"El resultado de la operacion Suma es: \",sumar)\n",
    "print(\"El resultado de la operacion Resta es: \",restar)\n",
    "print(\"El resultado de la operacion Division es: \", division)\n",
    "print(\"El resultado de la operacion Modulo es: \", modulo)\n",
    "\n",
    "#Punto 3\n",
    "\n",
    "print(\"La suma de los numeros es mayor a 20: \", sumar > 20 and 5 > numero_1 or 5 > numero_2)\n"
   ]
  }
 ],
 "metadata": {
  "kernelspec": {
   "display_name": "Python 3",
   "language": "python",
   "name": "python3"
  },
  "language_info": {
   "codemirror_mode": {
    "name": "ipython",
    "version": 3
   },
   "file_extension": ".py",
   "mimetype": "text/x-python",
   "name": "python",
   "nbconvert_exporter": "python",
   "pygments_lexer": "ipython3",
   "version": "3.13.2"
  }
 },
 "nbformat": 4,
 "nbformat_minor": 2
}
