{
 "cells": [
  {
   "cell_type": "markdown",
   "metadata": {
    "id": "q7R3dARlFtDY"
   },
   "source": [
    "# Título: Primer análisis de casos – Fundamentos de Python.\n",
    "# Estudiante: Jose F González Salgado\n",
    "# Fecha de entrega: 19 de Febrero 2025\n",
    "# Curso: Fundamentos de Python\n",
    "\n",
    "\n",
    "## Objetivo:\n",
    "En esta tarea, practicaremos los fundamentos básicos de Python resolviendo **cuatro ejercicios** de la lista planteada. Cada solución debe detallar **entradas**, **procesos** y **salidas** para comprender mejor cómo funciona cada problema.\n",
    "\n",
    "### Formato para cada ejercicio (seleccionemos 4 ejercicios):\n",
    "#### Ejercicio X:\n",
    "- **Descripción del problema:** Incluiremos el enunciado del ejercicio.\n",
    "- **Entradas:** Detallaremos los datos que debemos ingresar.\n",
    "- **Proceso:** Explicaremos cómo resolveremos el problema (algoritmo o fórmula).\n",
    "- **Salidas:** Describiremos el resultado que veremos en pantalla al final del proceso.\n",
    "\n",
    "#### Código del ejercicio:\n",
    "- Escribiremos la solución del ejercicio en una celda de código Python.\n",
    "- Agregaremos comentarios para explicar el código y hacerlo más comprensible.\n",
    "\n",
    "### Conclusión:\n",
    "- Al final, resumiremos lo que hemos aprendido resolviendo los ejercicios.\n",
    "- Reflexionaremos sobre cómo Python nos ayuda a solucionar problemas cotidianos.\n",
    "\n",
    "## Formato de entrega del informe en PDF:\n",
    "\n",
    "Debemos exportar nuestro notebook de Jupyter a formato PDF, cumpliendo con las siguientes pautas:\n",
    "\n",
    "### Portada:\n",
    "- Título: \"Primer análisis de casos – Fundamentos de Python\".\n",
    "- Nuestro nombre completo.\n",
    "- Fecha de entrega.\n",
    "- Curso.\n",
    "\n",
    "### Cuerpo del informe:\n",
    "- **Introducción:** Explicaremos brevemente los ejercicios que hemos seleccionado.\n",
    "- **Desarrollo de cada ejercicio:**\n",
    "  - Descripción del problema.\n",
    "  - Entradas, procesos y salidas detallados.\n",
    "  - Capturas de pantalla del código y del resultado de la ejecución.\n",
    "\n",
    "### Conclusión:\n",
    "- Reflexionaremos sobre el aprendizaje y las posibles dificultades que enfrentamos durante la resolución de los ejercicios.\n",
    "\n",
    "## Lista de ejercicios (Seleccionemos 4):\n",
    "\n",
    "1. Calcular el área de un triángulo a partir de la base y altura ingresadas.\n",
    "2. Convertir una cantidad de dólares a colones.\n",
    "3. Convertir grados centígrados a Fahrenheit.\n",
    "4. Mostrar cuántos segundos tiene un lustro.\n",
    "5. Calcular el tiempo que le toma a la luz viajar del sol a Marte.\n",
    "6. Calcular cuántas vueltas da una llanta en 1 km.\n",
    "7. Calcular la longitud de la sombra de un edificio de 20 metros.\n",
    "8. Comparar si la edad ingresada por dos usuarios es la misma.\n",
    "9. Calcular cuántos meses han transcurrido desde nuestra fecha de nacimiento.\n",
    "10. Calcular el promedio de un alumno en 5 materias.\n",
    "\n",
    "## Proceso de entrega:\n",
    "1. Resolveremos 4 de los ejercicios propuestos en un notebook de.\n",
    "2. Exportaremos el notebook a PDF siguiendo el formato establecido.\n",
    "3. Subiremos el PDF y el archivo de notebook (.ipynb) a la plataforma antes de la fecha límite.\n"
   ]
  },
  {
   "cell_type": "markdown",
   "metadata": {},
   "source": [
    "# Problema #1\n",
    "\n",
    "### Introducción: En este ejercicio lo que se pretende es tener una herramienta que nos permita realizar la conversión de la cantidad de dólares a colones, incluyendo los dólares y el tipo de cambio\n",
    "\n",
    "### Convertir una cantidad de dólares a colones.\n",
    "\n",
    "## Entrada: \n",
    "Leer La cantidad de dolares\n",
    "Leer tipo cambio\n",
    "\n",
    "## Proceso:\n",
    "\n",
    "cantidad_dolares * tipo_cambio\n",
    "\n",
    "## Salida:\n",
    "\n",
    "resultado de la multiplicacion"
   ]
  },
  {
   "cell_type": "code",
   "execution_count": 56,
   "metadata": {
    "colab": {
     "base_uri": "https://localhost:8080/"
    },
    "executionInfo": {
     "elapsed": 10485,
     "status": "ok",
     "timestamp": 1712064323417,
     "user": {
      "displayName": "Andrés Mena Abarca",
      "userId": "07418092259593836578"
     },
     "user_tz": 360
    },
    "id": "n3rOsUESDeTs",
    "outputId": "1cd40ed7-f1d2-4b89-bca5-696418df0021"
   },
   "outputs": [
    {
     "name": "stdout",
     "output_type": "stream",
     "text": [
      "La cantidad de colones es: 50000.0\n"
     ]
    }
   ],
   "source": [
    "# Código solución aqui\n",
    "\n",
    "#Convertir una cantidad de dólares a colones\n",
    "\n",
    "#Entrada\n",
    "\n",
    "Cantidad_dolares = float(input(\"Introduzca la cantidad de dólares: \"))\n",
    "\n",
    "Tipo_cambio = float(input(\"Introduzca el tipo de cambio: \"))\n",
    "\n",
    "#Proceso\n",
    "\n",
    "Cantidad_colones = Cantidad_dolares * Tipo_cambio\n",
    "\n",
    "#Salida\n",
    "\n",
    "print(f\"La cantidad de colones es: {Cantidad_colones}\")\n"
   ]
  },
  {
   "cell_type": "markdown",
   "metadata": {},
   "source": [
    "# Problema #2\n",
    "\n",
    "### Introducción: Es este ejercicio se busca realizar una herramienta que ayude a convertir los centigrados a Fahrenheit \n",
    "\n",
    "### Convertir grados centígrados a Fahrenheit\n",
    "\n",
    "## Entrada:\n",
    "\n",
    "Leer la cantidad de Centígrados\n",
    "\n",
    "## Proceso:\n",
    "\n",
    "(Centígrados * 9/5) + 32\n",
    "\n",
    "\n",
    "## Salida:\n",
    "\n",
    "Cantidad en Fahrenheit"
   ]
  },
  {
   "cell_type": "code",
   "execution_count": 7,
   "metadata": {},
   "outputs": [
    {
     "name": "stdout",
     "output_type": "stream",
     "text": [
      "El resultado en Fahrenhreit es: 64.4\n"
     ]
    }
   ],
   "source": [
    "# Convertir grados centígrados a Fahrenheit\n",
    "\n",
    "#Entrada\n",
    "\n",
    "Cantidad_centigrados = float(input(\"Introduzca los centigrados: \"))\n",
    "\n",
    "#Procesos\n",
    "\n",
    "Conversion_fahrenheit = (Cantidad_centigrados * 9/5) + 32\n",
    "\n",
    "#Salida\n",
    "\n",
    "print(f\"El resultado en Fahrenhreit es: {Conversion_fahrenheit}\")"
   ]
  },
  {
   "cell_type": "markdown",
   "metadata": {},
   "source": [
    "# Problema #3\n",
    "\n",
    "### Introducción: En este problema se espera comparar dos edades de usuarios y dar como resultado si las dos son iguales o tienen edades diferentes.\n",
    "\n",
    "### Comparar si la edad ingresada por dos usuarios es la misma\n",
    "\n",
    "## Entrada:\n",
    "\n",
    "Edad Usuario 1\n",
    "Edad Usuario 2\n",
    "\n",
    "## Proceso:\n",
    "\n",
    "Comparar si las edades son iguales\n",
    "\n",
    "## Salida:\n",
    "\n",
    "Comparación entre las edades"
   ]
  },
  {
   "cell_type": "code",
   "execution_count": 54,
   "metadata": {},
   "outputs": [
    {
     "name": "stdout",
     "output_type": "stream",
     "text": [
      "Los usuarios tienen diferente edad\n"
     ]
    }
   ],
   "source": [
    "# Comparar si la edad ingresada por dos usuarios es la misma\n",
    "\n",
    "#Entrada\n",
    "\n",
    "Edad_usuario_1 = float(input(\"Introduzca la edad del usuario 1: \"))\n",
    "Edad_usuario_2 = float(input(\"Introduzca la edad del usuario 2: \"))\n",
    "\n",
    "#Proceso\n",
    "\n",
    "Comparacion_edad = Edad_usuario_1 - Edad_usuario_2 #Se resta las edades para determinar si hay diferencias\n",
    "\n",
    "\n",
    "#Salida\n",
    "\n",
    "if Comparacion_edad == 0: print (\"Los usuarios tienen la misma edad\")\n",
    "if Comparacion_edad != 0: print (\"Los usuarios tienen diferente edad\")\n",
    "\n",
    "\n"
   ]
  },
  {
   "cell_type": "markdown",
   "metadata": {},
   "source": [
    "# Problema #4\n",
    "\n",
    "### En este problema se espera obtener el promedio de un alumno de 5 materias diferentes.\n",
    "\n",
    "### Calcular el promedio de un alumno en 5 materias.\n",
    "\n",
    "## Entrada:\n",
    "\n",
    "Notas de las 5 materias\n",
    "\n",
    "## Proceso:\n",
    "\n",
    "Sumar Materias: Nota Materia 1 + Nota Materia 2 + Nota Materia 3 + Nota Materia 4 + Nota Materia 5\n",
    "Dividir la suma de las materias entre 5\n",
    "\n",
    "## Salida:\n",
    "\n",
    "Promedio del alumno"
   ]
  },
  {
   "cell_type": "code",
   "execution_count": 8,
   "metadata": {},
   "outputs": [
    {
     "name": "stdout",
     "output_type": "stream",
     "text": [
      "El promedio del alumno es: 94.0\n"
     ]
    }
   ],
   "source": [
    "# Calcular el promedio de un alumno en 5 materias\n",
    "\n",
    "#Entrada\n",
    "\n",
    "Nota_materia_1 = float(input(\"Ingrese la nota de la materia 1: \"))\n",
    "Nota_materia_2 = float(input(\"Ingrese la nota de la materia 2: \"))\n",
    "Nota_materia_3 = float(input(\"Ingrese la nota de la materia 3: \"))\n",
    "Nota_materia_4 = float(input(\"Ingrese la nota de la materia 4: \"))\n",
    "Nota_materia_5 = float(input(\"Ingrese la nota de la materia 5: \"))\n",
    "\n",
    "#Proceso\n",
    "\n",
    "Promedio_materias = (Nota_materia_1 + Nota_materia_2 + Nota_materia_3 + Nota_materia_4 + Nota_materia_5) / 5\n",
    "\n",
    "#se suman todas las materias y se dividen entre la cantidad de materias (5)\n",
    "\n",
    "#Salida\n",
    "\n",
    "print(f\"El promedio del alumno es: {Promedio_materias}\")"
   ]
  },
  {
   "cell_type": "markdown",
   "metadata": {},
   "source": [
    "# Conlusión\n",
    "\n",
    "### Con el lenguaje de programción de Python logré resolver 4 problemas que se pueden presentar en nuestra vida y que esta herramienta nos ayuda a resolver de manera sencilla y rápida con solo colocar los datos necesarios. En el desarrollo de estos ejercicio utilicé operaciones aritmeticas sencillas que me ayudaron a compreender un poco mejor el funcionamiento del este lenguaje\n",
    "\n",
    "### Las principales dificultadades presentadas durante el desarrollo del ejercicio fueron errores de sintaxis, debido a que pasé por alto signos importantes como los \":\" , pero también me ayudó a entender como funcione este lenguaje."
   ]
  },
  {
   "cell_type": "markdown",
   "metadata": {},
   "source": []
  }
 ],
 "metadata": {
  "colab": {
   "provenance": []
  },
  "kernelspec": {
   "display_name": "Python 3",
   "name": "python3"
  },
  "language_info": {
   "codemirror_mode": {
    "name": "ipython",
    "version": 3
   },
   "file_extension": ".py",
   "mimetype": "text/x-python",
   "name": "python",
   "nbconvert_exporter": "python",
   "pygments_lexer": "ipython3",
   "version": "3.13.2"
  }
 },
 "nbformat": 4,
 "nbformat_minor": 0
}
