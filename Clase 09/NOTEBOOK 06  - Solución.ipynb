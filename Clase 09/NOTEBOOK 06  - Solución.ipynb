{
    "metadata": {
        "kernelspec": {
            "name": "python3",
            "display_name": "Python 3 (ipykernel)",
            "language": "python"
        },
        "language_info": {
            "name": "python",
            "version": "3.8.10",
            "mimetype": "text/x-python",
            "codemirror_mode": {
                "name": "ipython",
                "version": 3
            },
            "pygments_lexer": "ipython3",
            "nbconvert_exporter": "python",
            "file_extension": ".py"
        }
    },
    "nbformat_minor": 2,
    "nbformat": 4,
    "cells": [
        {
            "cell_type": "markdown",
            "source": [
                "# Notebook 06 - Estructuras de Datos en Python - Diccionarios y Tuplas\n",
                "\n",
                "## Fundamentos de Python | UMCA\n",
                "\n",
                "## Profesor: Ing. Andrés Mena Abarca\n",
                "\n",
                "### <mark>**Nombre del estudiante:**</mark>\n",
                "\n",
                "* * *"
            ],
            "metadata": {
                "azdata_cell_guid": "e738b43d-fda9-409b-9e4e-f356323e1dbc"
            },
            "attachments": {}
        },
        {
            "cell_type": "markdown",
            "source": [
                "#### **Introducción a Diccionarios y Tuplas**\n",
                "\n",
                "En esta clase profundizaremos en dos estructuras clave en Python: **diccionarios** y **tuplas**. Estas estructuras son fundamentales para manejar y organizar datos en programación. La sesión se dividirá en tres partes:\n",
                "\n",
                "1. **Comparación y diferencias entre diccionarios y tuplas.**\n",
                "2. **Funciones y métodos clave.**\n",
                "3. **Retos prácticos y un ejercicio de análisis de datos.**\n",
                "\n",
                "### 1\\. **Comparación y Diferencias entre Diccionarios y Tuplas**\n",
                "\n",
                "| Aspecto | Diccionarios | Tuplas |\n",
                "| --- | --- | --- |\n",
                "| **Estructura** | Colección de pares clave-valor. Cada valor está asociado a una clave única. | Secuencia ordenada de elementos. |\n",
                "| **Mutabilidad** | Mutables: podemos añadir, modificar o eliminar elementos después de su creación. | Inmutables: una vez creadas, no se pueden cambiar. |\n",
                "| **Acceso** | Se accede a los valores mediante claves (usualmente cadenas o números). | Se accede a los elementos mediante índices (0, 1, 2, ...). |\n",
                "| **Uso típico** | Ideal para representar relaciones de mapeo, como bases de datos simples o configuraciones. | Útil para almacenar conjuntos de valores inmutables, como coordenadas o datos de configuración fija. |\n",
                "| **Ejemplo común** | `{\"nombre\": \"Juan\", \"edad\": 30}` | `(\"Python\", \"esencial\", 3.8)` |\n",
                "\n",
                "**¿Cuándo Usar Cada Estructura?**\n",
                "\n",
                "- **Diccionarios**: cuando necesitamos buscar datos asociados a una clave o necesitamos modificar los datos frecuentemente.\n",
                "- **Tuplas**: cuando los datos son constantes y no requieren cambios, o cuando la inmutabilidad es una ventaja (e.g., datos que se usarán como claves en un diccionario).\n",
                "\n",
                "### Funciones y Métodos Clave para Diccionarios y Tuplas\n",
                "\n",
                "* * *\n",
                "\n",
                "#### **Diccionarios**\n",
                "\n",
                "**Acceso y Manipulación de Elementos**"
            ],
            "metadata": {
                "azdata_cell_guid": "5a9661f6-9c22-438b-8530-debb92fea2ff"
            },
            "attachments": {}
        },
        {
            "cell_type": "code",
            "source": [
                "# Diccionario de ejemplo\r\n",
                "frutas = {\"manzana\": 3, \"banana\": 5, \"pera\": 2}\r\n",
                "\r\n",
                "# Accede al valor de una clave\r\n",
                "print(frutas[\"manzana\"])  # Output: 3\r\n",
                "\r\n",
                "# Obtiene el valor de una clave, o un valor por defecto si no existe\r\n",
                "print(frutas.get(\"naranja\", 0))  # Output: 0\r\n",
                "\r\n",
                "# Vista de todas las claves\r\n",
                "print(frutas.keys())  # Output: dict_keys(['manzana', 'banana', 'pera'])\r\n",
                "\r\n",
                "# Vista de todos los valores\r\n",
                "print(frutas.values())  # Output: dict_values([3, 5, 2])\r\n",
                "\r\n",
                "# Vista de pares clave-valor\r\n",
                "print(frutas.items())  # Output: dict_items([('manzana', 3), ('banana', 5), ('pera', 2)])\r\n",
                ""
            ],
            "metadata": {
                "azdata_cell_guid": "65553934-e4e4-4b44-aa2e-b234d1a33667",
                "language": "python"
            },
            "outputs": [],
            "execution_count": null
        },
        {
            "cell_type": "markdown",
            "source": [
                "### Añadir, Modificar y Eliminar Elementos"
            ],
            "metadata": {
                "language": "python",
                "azdata_cell_guid": "53d2cb94-1fa6-45c0-8c98-7ce166fecd1b"
            },
            "attachments": {}
        },
        {
            "cell_type": "code",
            "source": [
                "# Añade o actualiza el valor de una clave\r\n",
                "frutas[\"naranja\"] = 4\r\n",
                "print(frutas)  # Output: {'manzana': 3, 'banana': 5, 'pera': 2, 'naranja': 4}\r\n",
                "\r\n",
                "# Elimina un elemento y devuelve su valor\r\n",
                "cantidad_manzanas = frutas.pop(\"manzana\")\r\n",
                "print(cantidad_manzanas)  # Output: 3\r\n",
                "print(frutas)  # Output: {'banana': 5, 'pera': 2, 'naranja': 4}\r\n",
                "\r\n",
                "# Actualiza el diccionario con otro diccionario\r\n",
                "frutas.update({\"uva\": 6, \"pera\": 3})\r\n",
                "print(frutas)  # Output: {'banana': 5, 'pera': 3, 'naranja': 4, 'uva': 6}\r\n",
                ""
            ],
            "metadata": {
                "language": "python",
                "azdata_cell_guid": "d34df69d-7d3a-4890-bf9f-46543c9720c3"
            },
            "outputs": [],
            "execution_count": null
        },
        {
            "cell_type": "markdown",
            "source": [
                "## **Tuplas**\n",
                "\n",
                "## \n",
                "\n",
                "**Acceso a Elementos**"
            ],
            "metadata": {
                "azdata_cell_guid": "27d04572-8b5b-46fa-b3ee-4ed3f2939a34",
                "language": "python"
            },
            "attachments": {}
        },
        {
            "cell_type": "code",
            "source": [
                "# Tupla de ejemplo\r\n",
                "persona = (\"Carlos\", 25)\r\n",
                "\r\n",
                "# Acceso por índice\r\n",
                "print(persona[0])  # Output: \"Carlos\"\r\n",
                "\r\n",
                "# Desempaquetado\r\n",
                "nombre, edad = persona\r\n",
                "print(nombre)  # Output: \"Carlos\"\r\n",
                "print(edad)    # Output: 25\r\n",
                ""
            ],
            "metadata": {
                "language": "python",
                "azdata_cell_guid": "49003a53-30be-4eb6-98d0-8a86594a1947"
            },
            "outputs": [],
            "execution_count": null
        },
        {
            "cell_type": "markdown",
            "source": [
                "### Operaciones Útiles"
            ],
            "metadata": {
                "azdata_cell_guid": "4b7c571d-d8f2-4d72-9f79-9718986200eb"
            },
            "attachments": {}
        },
        {
            "cell_type": "code",
            "source": [
                "# Longitud de la tupla\n",
                "print(len(persona))  # Output: 2\n",
                "\n",
                "# Concatenación de tuplas\n",
                "t1 = (1, 2)\n",
                "t2 = (3, 4)\n",
                "print(t1 + t2)  # Output: (1, 2, 3, 4)\n",
                "\n",
                "# Verificar si un elemento está en la tupla\n",
                "print(25 in persona)  # Output: True\n",
                ""
            ],
            "metadata": {
                "azdata_cell_guid": "61977840-044f-4cb3-858a-1812c43f3e2b",
                "language": "python"
            },
            "outputs": [],
            "execution_count": null
        },
        {
            "cell_type": "markdown",
            "source": [
                "### 3\\. **Retos Prácticos**\n",
                "\n",
                "#### **Ejercicio 1: Gestión de Inventario con Diccionarios**\n",
                "\n",
                "**Descripción**: Imagina una tienda que necesita llevar un control de inventario. Se nos da una lista de productos y queremos contar la cantidad de cada uno.\n",
                "\n",
                "**Objetivo**: Implementar el código para contar la frecuencia de cada producto usando un diccionario."
            ],
            "metadata": {
                "azdata_cell_guid": "549b6c62-76c6-4412-ae94-4d7a0ebd790d"
            },
            "attachments": {}
        },
        {
            "cell_type": "code",
            "source": [
                "productos = [\"manzana\", \"banana\", \"manzana\", \"pera\", \"banana\", \"manzana\"]\n",
                "inventario = {}\n",
                "\n",
                "for producto in productos:\n",
                "    if producto in inventario:\n",
                "        inventario[producto] += 1\n",
                "    else:\n",
                "        inventario[producto] = 1\n",
                "\n",
                "print(inventario)  # {'manzana': 3, 'banana': 2, 'pera': 1}\n",
                ""
            ],
            "metadata": {
                "azdata_cell_guid": "f5cffccc-7f3a-45f8-b203-53faac8d2ab0",
                "language": "python"
            },
            "outputs": [
                {
                    "name": "stdout",
                    "text": "{'manzana': 3, 'banana': 2, 'pera': 1}\n",
                    "output_type": "stream"
                }
            ],
            "execution_count": 1
        },
        {
            "cell_type": "markdown",
            "source": [
                "#### **Ejercicio 2: Procesamiento de Coordenadas con Tuplas**\n",
                "\n",
                "**Descripción**: Dado un conjunto de coordenadas de puntos, queremos calcular la distancia entre dos puntos en un plano 2D.\n",
                "\n",
                "**Objetivo**: Usar una tupla para representar las coordenadas de los puntos y calcular la distancia."
            ],
            "metadata": {
                "azdata_cell_guid": "2ceed8f4-0a9a-48ac-ba0d-d48dc319ab9f",
                "language": "python"
            },
            "attachments": {}
        },
        {
            "cell_type": "code",
            "source": [
                "from math import sqrt\n",
                "\n",
                "punto1 = (1, 2)\n",
                "punto2 = (4, 6)\n",
                "\n",
                "# Calculo de distancia\n",
                "distancia = sqrt((punto2[0] - punto1[0]) ** 2 + (punto2[1] - punto1[1]) ** 2)\n",
                "print(distancia)  # Resultado de la distancia entre punto1 y punto2\n",
                ""
            ],
            "metadata": {
                "azdata_cell_guid": "5368c6bd-5224-4c6f-a5ad-ef6767750039",
                "language": "python"
            },
            "outputs": [],
            "execution_count": null
        },
        {
            "cell_type": "markdown",
            "source": [
                "### **Ejercicio Final de Análisis de Datos: Procesamiento de Ventas**\n",
                "\n",
                "### \n",
                "\n",
                "**Contexto**: Supón que trabajas para una cadena de tiendas y tienes los datos de ventas en un formato que usa diccionarios y tuplas. Cada entrada en el registro de ventas tiene el formato:"
            ],
            "metadata": {
                "azdata_cell_guid": "02262547-dabe-40b9-9ef0-5863dcad648b",
                "language": "python"
            },
            "attachments": {}
        },
        {
            "cell_type": "code",
            "source": [
                "ventas = [\n",
                "    {\"producto\": \"laptop\", \"precio\": 700, \"cantidad\": 3},\n",
                "    {\"producto\": \"ratón\", \"precio\": 25, \"cantidad\": 10},\n",
                "    {\"producto\": \"teclado\", \"precio\": 45, \"cantidad\": 5},\n",
                "]\n",
                ""
            ],
            "metadata": {
                "azdata_cell_guid": "fb7ea25e-c906-4f7e-9265-dd63d3193b54",
                "language": "python"
            },
            "outputs": [],
            "execution_count": null
        },
        {
            "cell_type": "markdown",
            "source": [
                "**Instrucciones**:\n",
                "\n",
                "1. Calcula el ingreso total de ventas por cada producto.\n",
                "2. Muestra el ingreso total en pantalla.\n",
                "\n",
                "**Objetivo**: Realizar cálculos en un diccionario de ventas y entender cómo los diccionarios pueden facilitar el análisis de datos.  \n",
                "\n",
                "**Código de Solución**:"
            ],
            "metadata": {
                "azdata_cell_guid": "babcfd28-f173-4adb-b593-c5cf58370bc0",
                "language": "python"
            },
            "attachments": {}
        },
        {
            "cell_type": "code",
            "source": [
                "ventas = [\n",
                "    {\"producto\": \"laptop\", \"precio\": 700, \"cantidad\": 3},\n",
                "    {\"producto\": \"ratón\", \"precio\": 25, \"cantidad\": 10},\n",
                "    {\"producto\": \"teclado\", \"precio\": 45, \"cantidad\": 5},\n",
                "]\n",
                "\n",
                "ingreso_total = 0\n",
                "ingreso_por_producto = {}\n",
                "\n",
                "for venta in ventas:\n",
                "    producto = venta[\"producto\"]\n",
                "    ingreso = venta[\"precio\"] * venta[\"cantidad\"]\n",
                "    ingreso_total += ingreso\n",
                "    ingreso_por_producto[producto] = ingreso\n",
                "\n",
                "print(\"Ingreso por producto:\", ingreso_por_producto)\n",
                "print(\"Ingreso total:\", ingreso_total)\n",
                "\n",
                ""
            ],
            "metadata": {
                "azdata_cell_guid": "85051147-a5a3-40e9-a423-179ac721be03",
                "language": "python",
                "tags": []
            },
            "outputs": [],
            "execution_count": null
        }
    ]
}